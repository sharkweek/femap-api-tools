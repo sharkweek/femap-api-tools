{
 "cells": [
  {
   "cell_type": "markdown",
   "metadata": {},
   "source": [
    "# Modal Results from `OP2`"
   ]
  },
  {
   "cell_type": "code",
   "execution_count": 1,
   "metadata": {},
   "outputs": [],
   "source": [
    "import numpy as np\n",
    "import pandas as pd\n",
    "import plotly.graph_objects as go\n",
    "import plotly.express as px  # used for quick test plots\n",
    "\n",
    "from colorsys import rgb_to_hsv, hsv_to_rgb\n",
    "from plotly.colors import qualitative as colorways\n",
    "from plotly.subplots import make_subplots\n",
    "from pyNastran.op2.op2 import read_op2, OP2"
   ]
  },
  {
   "cell_type": "markdown",
   "metadata": {},
   "source": [
    "## Load `OP2` File"
   ]
  },
  {
   "cell_type": "code",
   "execution_count": 3,
   "metadata": {},
   "outputs": [],
   "source": [
    "%%capture\n",
    "op2 = OP2(mode='nx')\n",
    "op2.read_op2('./modes.op2', build_dataframe=False)"
   ]
  },
  {
   "cell_type": "markdown",
   "metadata": {},
   "source": [
    "Check data."
   ]
  },
  {
   "cell_type": "code",
   "execution_count": 4,
   "metadata": {},
   "outputs": [
    {
     "name": "stdout",
     "output_type": "stream",
     "text": [
      "params:\n",
      "  AUTOSPC = 'YES'\n",
      "  K6ROT = 100.0\n",
      "  MAXRATIO = 1000000000.0\n",
      "  OGEOM = 'NO'\n",
      "  POST = -1\n",
      "  PRGPST = 'NO'\n",
      "  RESVEC = 'YES'\n",
      "  WTMASS = 0.002589999930933118\n",
      "op2_results.eqexin: EQEXIN(nid, ndof, doftype); nnodes=27022\n",
      "eigenvectors[1]\n",
      "  isubcase = 1\n",
      "  type=RealEigenvectorArray ntimes=50 nnodes=27022, table_name=OUGV1\n",
      "  data: [t1, t2, t3, r1, r2, r3] shape=[50, 27022, 6] dtype=float32\n",
      "  node_gridtype.shape = (27022, 2)\n",
      "  sort1\n",
      "  modes = [ 1  2  3  4  5  6  7  8  9 10 11 12 13 14 15 16 17 18 19 20 21 22 23 24\n",
      " 25 26 27 28 29 30 31 32 33 34 35 36 37 38 39 40 41 42 43 44 45 46 47 48\n",
      " 49 50]\n",
      "  eigns = [  84195.1875     86258.3125    138343.578125  159460.484375\n",
      "  441578.375     465481.25      508520.375     527238.5625\n",
      "  666105.25      812485.        855163.1875    874208.6875\n",
      "  895739.1875   1090621.5      1194446.25     1775070.375\n",
      " 1781796.5      1828455.625    1844817.5      1897179.625\n",
      " 1938493.       1985491.75     2128450.       2512902.75\n",
      " 2626421.       3343636.75     4307535.       4588506.5\n",
      " 4939894.       5225512.       5276263.       5463374.5\n",
      " 6002483.5      6218997.       6534793.       6669416.5\n",
      " 7048846.5      7428795.5      8099411.       8221513.5\n",
      " 8558446.       8739091.       8983942.       9151860.\n",
      " 9190829.       9408189.       9448224.       9508198.\n",
      " 9529983.       9760566.      ]\n",
      "  mode_cycles = [ 290.1640625   293.69766235  371.94567871  399.32504272  664.51367188\n",
      "  682.26184082  713.10614014  726.11193848  816.15270996  901.37945557\n",
      "  924.75030518  934.99127197  946.43499756 1044.32824707 1092.90722656\n",
      " 1332.31762695 1334.83947754 1352.20397949 1358.24060059 1377.38146973\n",
      " 1392.29772949 1409.0748291  1458.92077637 1585.21374512 1620.62365723\n",
      " 1828.56140137 2075.46020508 2142.07983398 2222.5871582  2285.93798828\n",
      " 2297.01171875 2337.38623047 2449.99658203 2493.79174805 2556.32421875\n",
      " 2582.52124023 2654.96630859 2725.58178711 2845.94628906 2867.31811523\n",
      " 2925.48217773 2956.1953125  2997.32250977 3025.20410156 3031.63793945\n",
      " 3067.27709961 3073.79638672 3083.53662109 3087.06713867 3124.19042969]\n",
      "\n",
      "eigenvalues[ORBITFAB RANCOR]\n",
      "  type=RealEigenvalues neigenvalues=50\n",
      "  title, extraction_order, eigenvalues, radians, cycles, generalized_mass, generalized_stiffness\n",
      "\n",
      "matrices:\n",
      "  Matrix['EFMASSS'];  shape=(6, 6);     type=scipy.sparse._coo.coo_matrix;     dtype=float64;   desc=square\n",
      "  Matrix['EFMFACS'];  shape=(6, 50);    type=scipy.sparse._coo.coo_matrix;     dtype=float64;   desc=rectangular\n",
      "  Matrix['EFMFSMS'];  shape=(6, 1);     type=scipy.sparse._coo.coo_matrix;     dtype=float64;   desc=rectangular\n",
      "  Matrix['MEFMASS'];  shape=(6, 50);    type=scipy.sparse._coo.coo_matrix;     dtype=float64;   desc=rectangular\n",
      "  Matrix['MEFWTS'];   shape=(6, 50);    type=scipy.sparse._coo.coo_matrix;     dtype=float64;   desc=rectangular\n",
      "  Matrix['MPFACS'];   shape=(6, 50);    type=scipy.sparse._coo.coo_matrix;     dtype=float64;   desc=rectangular\n",
      "  Matrix['RBMASSS'];  shape=(6, 6);     type=scipy.sparse._coo.coo_matrix;     dtype=float64;   desc=square\n",
      "\n"
     ]
    }
   ],
   "source": [
    "print(op2.get_op2_stats())"
   ]
  },
  {
   "cell_type": "markdown",
   "metadata": {},
   "source": [
    "Reduce sparse matrix results to usable `DataFrame`."
   ]
  },
  {
   "cell_type": "code",
   "execution_count": 5,
   "metadata": {},
   "outputs": [],
   "source": [
    "def modal_matrix_to_dataframe(op2, matrix_key):\n",
    "    \"\"\"Get a modal matrix indexed by frequency as a dataframe.\n",
    "\n",
    "    Parameters\n",
    "    ----------\n",
    "    op2 : pyNastran.op2.op2.OP2\n",
    "        OP2 object\n",
    "    matrix_key : {'EFMFACS', 'MPFACS', 'MEFMASS', 'MEFWTS'}\n",
    "        key of matrix to return. Assumes SORT1.\n",
    "\n",
    "    Returns\n",
    "    -------\n",
    "    pandas.DataFrame\n",
    "        Matrix as a DataFrame\n",
    "    \"\"\"\n",
    "\n",
    "    # build dataframes if not already built\n",
    "    op2.matrices[matrix_key].build_dataframe()\n",
    "    op2.eigenvectors[1].build_dataframe()\n",
    "\n",
    "    # create data frame from sparse matrix\n",
    "    df = pd.DataFrame(\n",
    "        data=op2.matrices[matrix_key].data.todense().T,\n",
    "        columns=op2.eigenvectors[1].headers,\n",
    "        index=op2.eigenvectors[1].data_frame.columns.get_level_values('Freq')\n",
    "    )\n",
    "\n",
    "    # add mode numbers as indicies\n",
    "    df['mode'] = op2.eigenvectors[1].modes\n",
    "    df = df.reset_index().set_index('mode', drop=True)\n",
    "    df.columns = [i.capitalize() for i in df.columns]\n",
    "\n",
    "    return df"
   ]
  },
  {
   "cell_type": "code",
   "execution_count": 6,
   "metadata": {},
   "outputs": [],
   "source": [
    "efmfacs = modal_matrix_to_dataframe(op2, 'EFMFACS')\n",
    "efmfacs = np.round(efmfacs,2)"
   ]
  },
  {
   "cell_type": "markdown",
   "metadata": {},
   "source": [
    "Isolate critical modes contributing a mass fraction of 1% or greater."
   ]
  },
  {
   "cell_type": "code",
   "execution_count": 17,
   "metadata": {},
   "outputs": [
    {
     "data": {
      "text/html": [
       "<div>\n",
       "<style scoped>\n",
       "    .dataframe tbody tr th:only-of-type {\n",
       "        vertical-align: middle;\n",
       "    }\n",
       "\n",
       "    .dataframe tbody tr th {\n",
       "        vertical-align: top;\n",
       "    }\n",
       "\n",
       "    .dataframe thead th {\n",
       "        text-align: right;\n",
       "    }\n",
       "</style>\n",
       "<table border=\"1\" class=\"dataframe\">\n",
       "  <thead>\n",
       "    <tr style=\"text-align: right;\">\n",
       "      <th></th>\n",
       "      <th>Freq</th>\n",
       "      <th>T1</th>\n",
       "      <th>T2</th>\n",
       "      <th>T3</th>\n",
       "      <th>R1</th>\n",
       "      <th>R2</th>\n",
       "      <th>R3</th>\n",
       "    </tr>\n",
       "    <tr>\n",
       "      <th>Mode</th>\n",
       "      <th></th>\n",
       "      <th></th>\n",
       "      <th></th>\n",
       "      <th></th>\n",
       "      <th></th>\n",
       "      <th></th>\n",
       "      <th></th>\n",
       "    </tr>\n",
       "  </thead>\n",
       "  <tbody>\n",
       "    <tr>\n",
       "      <th>1</th>\n",
       "      <td>46.18</td>\n",
       "      <td>0.82</td>\n",
       "      <td>NaN</td>\n",
       "      <td>NaN</td>\n",
       "      <td>NaN</td>\n",
       "      <td>0.95</td>\n",
       "      <td>NaN</td>\n",
       "    </tr>\n",
       "    <tr>\n",
       "      <th>2</th>\n",
       "      <td>46.74</td>\n",
       "      <td>NaN</td>\n",
       "      <td>0.83</td>\n",
       "      <td>NaN</td>\n",
       "      <td>0.96</td>\n",
       "      <td>NaN</td>\n",
       "      <td>NaN</td>\n",
       "    </tr>\n",
       "    <tr>\n",
       "      <th>3</th>\n",
       "      <td>59.20</td>\n",
       "      <td>NaN</td>\n",
       "      <td>NaN</td>\n",
       "      <td>0.68</td>\n",
       "      <td>NaN</td>\n",
       "      <td>NaN</td>\n",
       "      <td>NaN</td>\n",
       "    </tr>\n",
       "    <tr>\n",
       "      <th>4</th>\n",
       "      <td>63.55</td>\n",
       "      <td>NaN</td>\n",
       "      <td>NaN</td>\n",
       "      <td>0.05</td>\n",
       "      <td>NaN</td>\n",
       "      <td>NaN</td>\n",
       "      <td>NaN</td>\n",
       "    </tr>\n",
       "    <tr>\n",
       "      <th>5</th>\n",
       "      <td>105.76</td>\n",
       "      <td>0.08</td>\n",
       "      <td>NaN</td>\n",
       "      <td>NaN</td>\n",
       "      <td>NaN</td>\n",
       "      <td>NaN</td>\n",
       "      <td>0.01</td>\n",
       "    </tr>\n",
       "    <tr>\n",
       "      <th>6</th>\n",
       "      <td>108.59</td>\n",
       "      <td>NaN</td>\n",
       "      <td>0.09</td>\n",
       "      <td>NaN</td>\n",
       "      <td>0.01</td>\n",
       "      <td>NaN</td>\n",
       "      <td>NaN</td>\n",
       "    </tr>\n",
       "    <tr>\n",
       "      <th>7</th>\n",
       "      <td>113.49</td>\n",
       "      <td>0.01</td>\n",
       "      <td>NaN</td>\n",
       "      <td>NaN</td>\n",
       "      <td>NaN</td>\n",
       "      <td>NaN</td>\n",
       "      <td>0.79</td>\n",
       "    </tr>\n",
       "    <tr>\n",
       "      <th>8</th>\n",
       "      <td>115.56</td>\n",
       "      <td>0.02</td>\n",
       "      <td>NaN</td>\n",
       "      <td>NaN</td>\n",
       "      <td>NaN</td>\n",
       "      <td>0.01</td>\n",
       "      <td>0.14</td>\n",
       "    </tr>\n",
       "    <tr>\n",
       "      <th>10</th>\n",
       "      <td>143.46</td>\n",
       "      <td>NaN</td>\n",
       "      <td>NaN</td>\n",
       "      <td>NaN</td>\n",
       "      <td>0.01</td>\n",
       "      <td>NaN</td>\n",
       "      <td>NaN</td>\n",
       "    </tr>\n",
       "    <tr>\n",
       "      <th>11</th>\n",
       "      <td>147.18</td>\n",
       "      <td>NaN</td>\n",
       "      <td>NaN</td>\n",
       "      <td>NaN</td>\n",
       "      <td>0.01</td>\n",
       "      <td>NaN</td>\n",
       "      <td>NaN</td>\n",
       "    </tr>\n",
       "    <tr>\n",
       "      <th>12</th>\n",
       "      <td>148.81</td>\n",
       "      <td>0.01</td>\n",
       "      <td>NaN</td>\n",
       "      <td>NaN</td>\n",
       "      <td>NaN</td>\n",
       "      <td>0.02</td>\n",
       "      <td>NaN</td>\n",
       "    </tr>\n",
       "    <tr>\n",
       "      <th>13</th>\n",
       "      <td>150.63</td>\n",
       "      <td>NaN</td>\n",
       "      <td>0.01</td>\n",
       "      <td>NaN</td>\n",
       "      <td>0.01</td>\n",
       "      <td>NaN</td>\n",
       "      <td>NaN</td>\n",
       "    </tr>\n",
       "    <tr>\n",
       "      <th>14</th>\n",
       "      <td>166.21</td>\n",
       "      <td>NaN</td>\n",
       "      <td>NaN</td>\n",
       "      <td>NaN</td>\n",
       "      <td>NaN</td>\n",
       "      <td>NaN</td>\n",
       "      <td>0.03</td>\n",
       "    </tr>\n",
       "    <tr>\n",
       "      <th>15</th>\n",
       "      <td>173.94</td>\n",
       "      <td>NaN</td>\n",
       "      <td>NaN</td>\n",
       "      <td>0.25</td>\n",
       "      <td>NaN</td>\n",
       "      <td>NaN</td>\n",
       "      <td>NaN</td>\n",
       "    </tr>\n",
       "    <tr>\n",
       "      <th>16</th>\n",
       "      <td>212.04</td>\n",
       "      <td>0.03</td>\n",
       "      <td>NaN</td>\n",
       "      <td>NaN</td>\n",
       "      <td>NaN</td>\n",
       "      <td>NaN</td>\n",
       "      <td>NaN</td>\n",
       "    </tr>\n",
       "    <tr>\n",
       "      <th>18</th>\n",
       "      <td>215.21</td>\n",
       "      <td>NaN</td>\n",
       "      <td>NaN</td>\n",
       "      <td>NaN</td>\n",
       "      <td>NaN</td>\n",
       "      <td>NaN</td>\n",
       "      <td>0.01</td>\n",
       "    </tr>\n",
       "    <tr>\n",
       "      <th>19</th>\n",
       "      <td>216.17</td>\n",
       "      <td>NaN</td>\n",
       "      <td>0.02</td>\n",
       "      <td>NaN</td>\n",
       "      <td>NaN</td>\n",
       "      <td>NaN</td>\n",
       "      <td>NaN</td>\n",
       "    </tr>\n",
       "    <tr>\n",
       "      <th>21</th>\n",
       "      <td>221.59</td>\n",
       "      <td>NaN</td>\n",
       "      <td>0.01</td>\n",
       "      <td>NaN</td>\n",
       "      <td>NaN</td>\n",
       "      <td>NaN</td>\n",
       "      <td>NaN</td>\n",
       "    </tr>\n",
       "    <tr>\n",
       "      <th>Sum At</th>\n",
       "      <td>497.23</td>\n",
       "      <td>0.97</td>\n",
       "      <td>0.96</td>\n",
       "      <td>0.98</td>\n",
       "      <td>1.00</td>\n",
       "      <td>0.98</td>\n",
       "      <td>0.98</td>\n",
       "    </tr>\n",
       "  </tbody>\n",
       "</table>\n",
       "</div>"
      ],
      "text/plain": [
       "          Freq    T1    T2    T3    R1    R2    R3\n",
       "Mode                                              \n",
       "1        46.18  0.82   NaN   NaN   NaN  0.95   NaN\n",
       "2        46.74   NaN  0.83   NaN  0.96   NaN   NaN\n",
       "3        59.20   NaN   NaN  0.68   NaN   NaN   NaN\n",
       "4        63.55   NaN   NaN  0.05   NaN   NaN   NaN\n",
       "5       105.76  0.08   NaN   NaN   NaN   NaN  0.01\n",
       "6       108.59   NaN  0.09   NaN  0.01   NaN   NaN\n",
       "7       113.49  0.01   NaN   NaN   NaN   NaN  0.79\n",
       "8       115.56  0.02   NaN   NaN   NaN  0.01  0.14\n",
       "10      143.46   NaN   NaN   NaN  0.01   NaN   NaN\n",
       "11      147.18   NaN   NaN   NaN  0.01   NaN   NaN\n",
       "12      148.81  0.01   NaN   NaN   NaN  0.02   NaN\n",
       "13      150.63   NaN  0.01   NaN  0.01   NaN   NaN\n",
       "14      166.21   NaN   NaN   NaN   NaN   NaN  0.03\n",
       "15      173.94   NaN   NaN  0.25   NaN   NaN   NaN\n",
       "16      212.04  0.03   NaN   NaN   NaN   NaN   NaN\n",
       "18      215.21   NaN   NaN   NaN   NaN   NaN  0.01\n",
       "19      216.17   NaN  0.02   NaN   NaN   NaN   NaN\n",
       "21      221.59   NaN  0.01   NaN   NaN   NaN   NaN\n",
       "Sum At  497.23  0.97  0.96  0.98  1.00  0.98  0.98"
      ]
     },
     "execution_count": 17,
     "metadata": {},
     "output_type": "execute_result"
    }
   ],
   "source": [
    "crit = efmfacs[efmfacs >= 0.01].dropna(\n",
    "    how='all',\n",
    "    subset=['T1', 'T2', 'T3', 'R1', 'R2', 'R3']\n",
    ")\n",
    "\n",
    "# create total row \n",
    "s = efmfacs.sum()\n",
    "s['Freq'] = efmfacs['Freq'].max()\n",
    "# s['mode'] = np.NaN\n",
    "s = pd.DataFrame(s).T\n",
    "s.index = ['Sum At']\n",
    "s = np.round(s, 2)\n",
    "\n",
    "# add total row to table\n",
    "crit = pd.concat([crit, s])\n",
    "crit.index.name = 'Mode'\n",
    "\n",
    "crit"
   ]
  },
  {
   "cell_type": "markdown",
   "metadata": {},
   "source": [
    "## Plot"
   ]
  },
  {
   "cell_type": "markdown",
   "metadata": {},
   "source": [
    "Color defaults and tools."
   ]
  },
  {
   "cell_type": "code",
   "execution_count": null,
   "metadata": {},
   "outputs": [],
   "source": [
    "# default colorway\n",
    "color = colorways.Plotly\n",
    "\n",
    "# color saturation tool\n",
    "def hex_saturation(hex, percent):\n",
    "    \"\"\"Change saturation of hex color string.\"\"\"\n",
    "\n",
    "    rgb = tuple(int(hex[1:][i:i+2], 16) for i in (0, 2, 4))\n",
    "    rgb_norm = list(np.array(rgb) / 255)\n",
    "    hsv = np.array(rgb_to_hsv(*rgb_norm))\n",
    "    hsv[1] *= percent\n",
    "    rgb = list(np.array(hsv_to_rgb(*hsv)) * 255)\n",
    "    return '#' + ('{:02X}' * 3).format(*[int(i) for i in rgb])"
   ]
  },
  {
   "cell_type": "markdown",
   "metadata": {},
   "source": [
    "Default layout."
   ]
  },
  {
   "cell_type": "code",
   "execution_count": null,
   "metadata": {},
   "outputs": [],
   "source": [
    "layout=go.Layout(\n",
    "    height=500,\n",
    "    width=1000,\n",
    "    title={'text': f\"<b>Modal Effective Mass Fraction</b><br>&#8805;1%\",\n",
    "           'x': 0.5,\n",
    "           'font': {'size': 20}},\n",
    "    font={'family': 'Segoe UI',\n",
    "          'size': 14},\n",
    "    template='plotly_white',\n",
    "    xaxis={'type': 'linear',\n",
    "           'title': \"Frequency (Hz)\",\n",
    "           'showgrid': True,\n",
    "           'minor': {'dtick': 'D1'},\n",
    "           'range': [20, 2000],\n",
    "           'showline': True,\n",
    "           'mirror': True,\n",
    "           'showspikes': True,\n",
    "           'hoverformat': '.0f',\n",
    "           'spikethickness': 1,\n",
    "           'spikemode': 'across'},\n",
    "    yaxis={'title': 'Fraction',\n",
    "           'showline': True,\n",
    "           'mirror': True,\n",
    "           'scaleanchor': 'y2',\n",
    "           'scaleratio': 1,\n",
    "           'dtick': 0.1,\n",
    "           'rangemode': 'tozero',\n",
    "           'constraintoward': 'bottom',\n",
    "           'tickformat': '.0%'},\n",
    "    yaxis2={'title': 'Sum',\n",
    "            'side': 'right',\n",
    "            'scaleanchor': 'y',\n",
    "            'scaleratio': 1,\n",
    "            'dtick': 0.2,\n",
    "            'rangemode': 'tozero',\n",
    "            'constraintoward': 'bottom',\n",
    "            'hoverformat': '.0%',\n",
    "            'tickformat': '.0%'},\n",
    "    legend={'title': {'text': 'DOF'}},\n",
    "    hovermode='closest',\n",
    "    plot_bgcolor='rgb(250,250,250)',\n",
    "    paper_bgcolor='rgb(250,250,250)'\n",
    ")"
   ]
  },
  {
   "cell_type": "markdown",
   "metadata": {},
   "source": [
    "Plot results."
   ]
  },
  {
   "cell_type": "code",
   "execution_count": 15,
   "metadata": {},
   "outputs": [
    {
     "data": {
      "application/vnd.plotly.v1+json": {
       "config": {
        "plotlyServerURL": "https://plot.ly"
       },
       "data": [
        {
         "customdata": [
          1,
          2,
          3,
          4,
          5,
          6,
          7,
          8,
          9,
          10,
          11,
          12,
          13,
          14,
          15,
          16,
          17,
          18,
          19,
          20,
          21,
          22,
          23,
          24,
          25,
          26,
          27,
          28,
          29,
          30,
          31,
          32,
          33,
          34,
          35,
          36,
          37,
          38,
          39,
          40,
          41,
          42,
          43,
          44,
          45,
          46,
          47,
          48,
          49,
          50
         ],
         "hovertemplate": "<b>Mode %{customdata}</b><br>%{x} Hz<br>%{y}",
         "legendgroup": "t1",
         "marker": {
          "color": "#636EFA"
         },
         "name": "T1",
         "type": "bar",
         "width": 3,
         "x": [
          46.18,
          46.74,
          59.2,
          63.55,
          105.76,
          108.59,
          113.49,
          115.56,
          129.89,
          143.46,
          147.18,
          148.81,
          150.63,
          166.21,
          173.94,
          212.04,
          212.45,
          215.21,
          216.17,
          219.22,
          221.59,
          224.26,
          232.19,
          252.29,
          257.93,
          291.02,
          330.32,
          340.92,
          353.74,
          363.82,
          365.58,
          372.01,
          389.93,
          396.9,
          406.85,
          411.02,
          422.55,
          433.79,
          452.95,
          456.35,
          465.6,
          470.49,
          477.04,
          481.48,
          482.5,
          488.17,
          489.21,
          490.76,
          491.32,
          497.23
         ],
         "y": [
          0.82,
          0,
          0,
          0,
          0.08,
          0,
          0.01,
          0.02,
          0,
          0,
          0,
          0.01,
          0,
          0,
          0,
          0.03,
          0,
          0,
          0,
          0,
          0,
          0,
          0,
          0,
          0,
          0,
          0,
          0,
          0,
          0,
          0,
          0,
          0,
          0,
          0,
          0,
          0,
          0,
          0,
          0,
          0,
          0,
          0,
          0,
          0,
          0,
          0,
          0,
          0,
          0
         ],
         "yaxis": "y"
        },
        {
         "customdata": [
          1,
          2,
          3,
          4,
          5,
          6,
          7,
          8,
          9,
          10,
          11,
          12,
          13,
          14,
          15,
          16,
          17,
          18,
          19,
          20,
          21,
          22,
          23,
          24,
          25,
          26,
          27,
          28,
          29,
          30,
          31,
          32,
          33,
          34,
          35,
          36,
          37,
          38,
          39,
          40,
          41,
          42,
          43,
          44,
          45,
          46,
          47,
          48,
          49,
          50
         ],
         "hovertemplate": "<b>Mode %{customdata}</b><br>%{x} Hz<br>%{y}",
         "legendgroup": "t1",
         "line": {
          "color": "#AEB3FA",
          "width": 1
         },
         "mode": "lines",
         "name": "T1 Sum",
         "showlegend": false,
         "type": "scatter",
         "x": [
          46.18,
          46.74,
          59.2,
          63.55,
          105.76,
          108.59,
          113.49,
          115.56,
          129.89,
          143.46,
          147.18,
          148.81,
          150.63,
          166.21,
          173.94,
          212.04,
          212.45,
          215.21,
          216.17,
          219.22,
          221.59,
          224.26,
          232.19,
          252.29,
          257.93,
          291.02,
          330.32,
          340.92,
          353.74,
          363.82,
          365.58,
          372.01,
          389.93,
          396.9,
          406.85,
          411.02,
          422.55,
          433.79,
          452.95,
          456.35,
          465.6,
          470.49,
          477.04,
          481.48,
          482.5,
          488.17,
          489.21,
          490.76,
          491.32,
          497.23
         ],
         "y": [
          0.82,
          0.82,
          0.82,
          0.82,
          0.8999999999999999,
          0.8999999999999999,
          0.9099999999999999,
          0.9299999999999999,
          0.9299999999999999,
          0.9299999999999999,
          0.9299999999999999,
          0.94,
          0.94,
          0.94,
          0.94,
          0.97,
          0.97,
          0.97,
          0.97,
          0.97,
          0.97,
          0.97,
          0.97,
          0.97,
          0.97,
          0.97,
          0.97,
          0.97,
          0.97,
          0.97,
          0.97,
          0.97,
          0.97,
          0.97,
          0.97,
          0.97,
          0.97,
          0.97,
          0.97,
          0.97,
          0.97,
          0.97,
          0.97,
          0.97,
          0.97,
          0.97,
          0.97,
          0.97,
          0.97,
          0.97
         ],
         "yaxis": "y2"
        },
        {
         "customdata": [
          1,
          2,
          3,
          4,
          5,
          6,
          7,
          8,
          9,
          10,
          11,
          12,
          13,
          14,
          15,
          16,
          17,
          18,
          19,
          20,
          21,
          22,
          23,
          24,
          25,
          26,
          27,
          28,
          29,
          30,
          31,
          32,
          33,
          34,
          35,
          36,
          37,
          38,
          39,
          40,
          41,
          42,
          43,
          44,
          45,
          46,
          47,
          48,
          49,
          50
         ],
         "hovertemplate": "<b>Mode %{customdata}</b><br>%{x} Hz<br>%{y}",
         "legendgroup": "t2",
         "marker": {
          "color": "#EF553B"
         },
         "name": "T2",
         "type": "bar",
         "width": 3,
         "x": [
          46.18,
          46.74,
          59.2,
          63.55,
          105.76,
          108.59,
          113.49,
          115.56,
          129.89,
          143.46,
          147.18,
          148.81,
          150.63,
          166.21,
          173.94,
          212.04,
          212.45,
          215.21,
          216.17,
          219.22,
          221.59,
          224.26,
          232.19,
          252.29,
          257.93,
          291.02,
          330.32,
          340.92,
          353.74,
          363.82,
          365.58,
          372.01,
          389.93,
          396.9,
          406.85,
          411.02,
          422.55,
          433.79,
          452.95,
          456.35,
          465.6,
          470.49,
          477.04,
          481.48,
          482.5,
          488.17,
          489.21,
          490.76,
          491.32,
          497.23
         ],
         "y": [
          0,
          0.83,
          0,
          0,
          0,
          0.09,
          0,
          0,
          0,
          0,
          0,
          0,
          0.01,
          0,
          0,
          0,
          0,
          0,
          0.02,
          0,
          0.01,
          0,
          0,
          0,
          0,
          0,
          0,
          0,
          0,
          0,
          0,
          0,
          0,
          0,
          0,
          0,
          0,
          0,
          0,
          0,
          0,
          0,
          0,
          0,
          0,
          0,
          0,
          0,
          0,
          0
         ],
         "yaxis": "y"
        },
        {
         "customdata": [
          1,
          2,
          3,
          4,
          5,
          6,
          7,
          8,
          9,
          10,
          11,
          12,
          13,
          14,
          15,
          16,
          17,
          18,
          19,
          20,
          21,
          22,
          23,
          24,
          25,
          26,
          27,
          28,
          29,
          30,
          31,
          32,
          33,
          34,
          35,
          36,
          37,
          38,
          39,
          40,
          41,
          42,
          43,
          44,
          45,
          46,
          47,
          48,
          49,
          50
         ],
         "hovertemplate": "<b>Mode %{customdata}</b><br>%{x} Hz<br>%{y}",
         "legendgroup": "t2",
         "line": {
          "color": "#EFA195",
          "width": 1
         },
         "mode": "lines",
         "name": "T2 Sum",
         "showlegend": false,
         "type": "scatter",
         "x": [
          46.18,
          46.74,
          59.2,
          63.55,
          105.76,
          108.59,
          113.49,
          115.56,
          129.89,
          143.46,
          147.18,
          148.81,
          150.63,
          166.21,
          173.94,
          212.04,
          212.45,
          215.21,
          216.17,
          219.22,
          221.59,
          224.26,
          232.19,
          252.29,
          257.93,
          291.02,
          330.32,
          340.92,
          353.74,
          363.82,
          365.58,
          372.01,
          389.93,
          396.9,
          406.85,
          411.02,
          422.55,
          433.79,
          452.95,
          456.35,
          465.6,
          470.49,
          477.04,
          481.48,
          482.5,
          488.17,
          489.21,
          490.76,
          491.32,
          497.23
         ],
         "y": [
          0,
          0.83,
          0.83,
          0.83,
          0.83,
          0.9199999999999999,
          0.9199999999999999,
          0.9199999999999999,
          0.9199999999999999,
          0.9199999999999999,
          0.9199999999999999,
          0.9199999999999999,
          0.9299999999999999,
          0.9299999999999999,
          0.9299999999999999,
          0.9299999999999999,
          0.9299999999999999,
          0.9299999999999999,
          0.95,
          0.95,
          0.96,
          0.96,
          0.96,
          0.96,
          0.96,
          0.96,
          0.96,
          0.96,
          0.96,
          0.96,
          0.96,
          0.96,
          0.96,
          0.96,
          0.96,
          0.96,
          0.96,
          0.96,
          0.96,
          0.96,
          0.96,
          0.96,
          0.96,
          0.96,
          0.96,
          0.96,
          0.96,
          0.96,
          0.96,
          0.96
         ],
         "yaxis": "y2"
        },
        {
         "customdata": [
          1,
          2,
          3,
          4,
          5,
          6,
          7,
          8,
          9,
          10,
          11,
          12,
          13,
          14,
          15,
          16,
          17,
          18,
          19,
          20,
          21,
          22,
          23,
          24,
          25,
          26,
          27,
          28,
          29,
          30,
          31,
          32,
          33,
          34,
          35,
          36,
          37,
          38,
          39,
          40,
          41,
          42,
          43,
          44,
          45,
          46,
          47,
          48,
          49,
          50
         ],
         "hovertemplate": "<b>Mode %{customdata}</b><br>%{x} Hz<br>%{y}",
         "legendgroup": "t3",
         "marker": {
          "color": "#00CC96"
         },
         "name": "T3",
         "type": "bar",
         "width": 3,
         "x": [
          46.18,
          46.74,
          59.2,
          63.55,
          105.76,
          108.59,
          113.49,
          115.56,
          129.89,
          143.46,
          147.18,
          148.81,
          150.63,
          166.21,
          173.94,
          212.04,
          212.45,
          215.21,
          216.17,
          219.22,
          221.59,
          224.26,
          232.19,
          252.29,
          257.93,
          291.02,
          330.32,
          340.92,
          353.74,
          363.82,
          365.58,
          372.01,
          389.93,
          396.9,
          406.85,
          411.02,
          422.55,
          433.79,
          452.95,
          456.35,
          465.6,
          470.49,
          477.04,
          481.48,
          482.5,
          488.17,
          489.21,
          490.76,
          491.32,
          497.23
         ],
         "y": [
          0,
          0,
          0.68,
          0.05,
          0,
          0,
          0,
          0,
          0,
          0,
          0,
          0,
          0,
          0,
          0.25,
          0,
          0,
          0,
          0,
          0,
          0,
          0,
          0,
          0,
          0,
          0,
          0,
          0,
          0,
          0,
          0,
          0,
          0,
          0,
          0,
          0,
          0,
          0,
          0,
          0,
          0,
          0,
          0,
          0,
          0,
          0,
          0,
          0,
          0,
          0
         ],
         "yaxis": "y"
        },
        {
         "customdata": [
          1,
          2,
          3,
          4,
          5,
          6,
          7,
          8,
          9,
          10,
          11,
          12,
          13,
          14,
          15,
          16,
          17,
          18,
          19,
          20,
          21,
          22,
          23,
          24,
          25,
          26,
          27,
          28,
          29,
          30,
          31,
          32,
          33,
          34,
          35,
          36,
          37,
          38,
          39,
          40,
          41,
          42,
          43,
          44,
          45,
          46,
          47,
          48,
          49,
          50
         ],
         "hovertemplate": "<b>Mode %{customdata}</b><br>%{x} Hz<br>%{y}",
         "legendgroup": "t3",
         "line": {
          "color": "#66CCB1",
          "width": 1
         },
         "mode": "lines",
         "name": "T3 Sum",
         "showlegend": false,
         "type": "scatter",
         "x": [
          46.18,
          46.74,
          59.2,
          63.55,
          105.76,
          108.59,
          113.49,
          115.56,
          129.89,
          143.46,
          147.18,
          148.81,
          150.63,
          166.21,
          173.94,
          212.04,
          212.45,
          215.21,
          216.17,
          219.22,
          221.59,
          224.26,
          232.19,
          252.29,
          257.93,
          291.02,
          330.32,
          340.92,
          353.74,
          363.82,
          365.58,
          372.01,
          389.93,
          396.9,
          406.85,
          411.02,
          422.55,
          433.79,
          452.95,
          456.35,
          465.6,
          470.49,
          477.04,
          481.48,
          482.5,
          488.17,
          489.21,
          490.76,
          491.32,
          497.23
         ],
         "y": [
          0,
          0,
          0.68,
          0.7300000000000001,
          0.7300000000000001,
          0.7300000000000001,
          0.7300000000000001,
          0.7300000000000001,
          0.7300000000000001,
          0.7300000000000001,
          0.7300000000000001,
          0.7300000000000001,
          0.7300000000000001,
          0.7300000000000001,
          0.9800000000000001,
          0.9800000000000001,
          0.9800000000000001,
          0.9800000000000001,
          0.9800000000000001,
          0.9800000000000001,
          0.9800000000000001,
          0.9800000000000001,
          0.9800000000000001,
          0.9800000000000001,
          0.9800000000000001,
          0.9800000000000001,
          0.9800000000000001,
          0.9800000000000001,
          0.9800000000000001,
          0.9800000000000001,
          0.9800000000000001,
          0.9800000000000001,
          0.9800000000000001,
          0.9800000000000001,
          0.9800000000000001,
          0.9800000000000001,
          0.9800000000000001,
          0.9800000000000001,
          0.9800000000000001,
          0.9800000000000001,
          0.9800000000000001,
          0.9800000000000001,
          0.9800000000000001,
          0.9800000000000001,
          0.9800000000000001,
          0.9800000000000001,
          0.9800000000000001,
          0.9800000000000001,
          0.9800000000000001,
          0.9800000000000001
         ],
         "yaxis": "y2"
        },
        {
         "customdata": [
          1,
          2,
          3,
          4,
          5,
          6,
          7,
          8,
          9,
          10,
          11,
          12,
          13,
          14,
          15,
          16,
          17,
          18,
          19,
          20,
          21,
          22,
          23,
          24,
          25,
          26,
          27,
          28,
          29,
          30,
          31,
          32,
          33,
          34,
          35,
          36,
          37,
          38,
          39,
          40,
          41,
          42,
          43,
          44,
          45,
          46,
          47,
          48,
          49,
          50
         ],
         "hovertemplate": "<b>Mode %{customdata}</b><br>%{x} Hz<br>%{y}",
         "legendgroup": "r1",
         "marker": {
          "color": "#AB63FA"
         },
         "name": "R1",
         "type": "bar",
         "width": 3,
         "x": [
          46.18,
          46.74,
          59.2,
          63.55,
          105.76,
          108.59,
          113.49,
          115.56,
          129.89,
          143.46,
          147.18,
          148.81,
          150.63,
          166.21,
          173.94,
          212.04,
          212.45,
          215.21,
          216.17,
          219.22,
          221.59,
          224.26,
          232.19,
          252.29,
          257.93,
          291.02,
          330.32,
          340.92,
          353.74,
          363.82,
          365.58,
          372.01,
          389.93,
          396.9,
          406.85,
          411.02,
          422.55,
          433.79,
          452.95,
          456.35,
          465.6,
          470.49,
          477.04,
          481.48,
          482.5,
          488.17,
          489.21,
          490.76,
          491.32,
          497.23
         ],
         "y": [
          0,
          0.96,
          0,
          0,
          0,
          0.01,
          0,
          0,
          0,
          0.01,
          0.01,
          0,
          0.01,
          0,
          0,
          0,
          0,
          0,
          0,
          0,
          0,
          0,
          0,
          0,
          0,
          0,
          0,
          0,
          0,
          0,
          0,
          0,
          0,
          0,
          0,
          0,
          0,
          0,
          0,
          0,
          0,
          0,
          0,
          0,
          0,
          0,
          0,
          0,
          0,
          0
         ],
         "yaxis": "y"
        },
        {
         "customdata": [
          1,
          2,
          3,
          4,
          5,
          6,
          7,
          8,
          9,
          10,
          11,
          12,
          13,
          14,
          15,
          16,
          17,
          18,
          19,
          20,
          21,
          22,
          23,
          24,
          25,
          26,
          27,
          28,
          29,
          30,
          31,
          32,
          33,
          34,
          35,
          36,
          37,
          38,
          39,
          40,
          41,
          42,
          43,
          44,
          45,
          46,
          47,
          48,
          49,
          50
         ],
         "hovertemplate": "<b>Mode %{customdata}</b><br>%{x} Hz<br>%{y}",
         "legendgroup": "r1",
         "line": {
          "color": "#D2AEFA",
          "width": 1
         },
         "mode": "lines",
         "name": "R1 Sum",
         "showlegend": false,
         "type": "scatter",
         "x": [
          46.18,
          46.74,
          59.2,
          63.55,
          105.76,
          108.59,
          113.49,
          115.56,
          129.89,
          143.46,
          147.18,
          148.81,
          150.63,
          166.21,
          173.94,
          212.04,
          212.45,
          215.21,
          216.17,
          219.22,
          221.59,
          224.26,
          232.19,
          252.29,
          257.93,
          291.02,
          330.32,
          340.92,
          353.74,
          363.82,
          365.58,
          372.01,
          389.93,
          396.9,
          406.85,
          411.02,
          422.55,
          433.79,
          452.95,
          456.35,
          465.6,
          470.49,
          477.04,
          481.48,
          482.5,
          488.17,
          489.21,
          490.76,
          491.32,
          497.23
         ],
         "y": [
          0,
          0.96,
          0.96,
          0.96,
          0.96,
          0.97,
          0.97,
          0.97,
          0.97,
          0.98,
          0.99,
          0.99,
          1,
          1,
          1,
          1,
          1,
          1,
          1,
          1,
          1,
          1,
          1,
          1,
          1,
          1,
          1,
          1,
          1,
          1,
          1,
          1,
          1,
          1,
          1,
          1,
          1,
          1,
          1,
          1,
          1,
          1,
          1,
          1,
          1,
          1,
          1,
          1,
          1,
          1
         ],
         "yaxis": "y2"
        },
        {
         "customdata": [
          1,
          2,
          3,
          4,
          5,
          6,
          7,
          8,
          9,
          10,
          11,
          12,
          13,
          14,
          15,
          16,
          17,
          18,
          19,
          20,
          21,
          22,
          23,
          24,
          25,
          26,
          27,
          28,
          29,
          30,
          31,
          32,
          33,
          34,
          35,
          36,
          37,
          38,
          39,
          40,
          41,
          42,
          43,
          44,
          45,
          46,
          47,
          48,
          49,
          50
         ],
         "hovertemplate": "<b>Mode %{customdata}</b><br>%{x} Hz<br>%{y}",
         "legendgroup": "r2",
         "marker": {
          "color": "#FFA15A"
         },
         "name": "R2",
         "type": "bar",
         "width": 3,
         "x": [
          46.18,
          46.74,
          59.2,
          63.55,
          105.76,
          108.59,
          113.49,
          115.56,
          129.89,
          143.46,
          147.18,
          148.81,
          150.63,
          166.21,
          173.94,
          212.04,
          212.45,
          215.21,
          216.17,
          219.22,
          221.59,
          224.26,
          232.19,
          252.29,
          257.93,
          291.02,
          330.32,
          340.92,
          353.74,
          363.82,
          365.58,
          372.01,
          389.93,
          396.9,
          406.85,
          411.02,
          422.55,
          433.79,
          452.95,
          456.35,
          465.6,
          470.49,
          477.04,
          481.48,
          482.5,
          488.17,
          489.21,
          490.76,
          491.32,
          497.23
         ],
         "y": [
          0.95,
          0,
          0,
          0,
          0,
          0,
          0,
          0.01,
          0,
          0,
          0,
          0.02,
          0,
          0,
          0,
          0,
          0,
          0,
          0,
          0,
          0,
          0,
          0,
          0,
          0,
          0,
          0,
          0,
          0,
          0,
          0,
          0,
          0,
          0,
          0,
          0,
          0,
          0,
          0,
          0,
          0,
          0,
          0,
          0,
          0,
          0,
          0,
          0,
          0,
          0
         ],
         "yaxis": "y"
        },
        {
         "customdata": [
          1,
          2,
          3,
          4,
          5,
          6,
          7,
          8,
          9,
          10,
          11,
          12,
          13,
          14,
          15,
          16,
          17,
          18,
          19,
          20,
          21,
          22,
          23,
          24,
          25,
          26,
          27,
          28,
          29,
          30,
          31,
          32,
          33,
          34,
          35,
          36,
          37,
          38,
          39,
          40,
          41,
          42,
          43,
          44,
          45,
          46,
          47,
          48,
          49,
          50
         ],
         "hovertemplate": "<b>Mode %{customdata}</b><br>%{x} Hz<br>%{y}",
         "legendgroup": "r2",
         "line": {
          "color": "#FFD0AC",
          "width": 1
         },
         "mode": "lines",
         "name": "R2 Sum",
         "showlegend": false,
         "type": "scatter",
         "x": [
          46.18,
          46.74,
          59.2,
          63.55,
          105.76,
          108.59,
          113.49,
          115.56,
          129.89,
          143.46,
          147.18,
          148.81,
          150.63,
          166.21,
          173.94,
          212.04,
          212.45,
          215.21,
          216.17,
          219.22,
          221.59,
          224.26,
          232.19,
          252.29,
          257.93,
          291.02,
          330.32,
          340.92,
          353.74,
          363.82,
          365.58,
          372.01,
          389.93,
          396.9,
          406.85,
          411.02,
          422.55,
          433.79,
          452.95,
          456.35,
          465.6,
          470.49,
          477.04,
          481.48,
          482.5,
          488.17,
          489.21,
          490.76,
          491.32,
          497.23
         ],
         "y": [
          0.95,
          0.95,
          0.95,
          0.95,
          0.95,
          0.95,
          0.95,
          0.96,
          0.96,
          0.96,
          0.96,
          0.98,
          0.98,
          0.98,
          0.98,
          0.98,
          0.98,
          0.98,
          0.98,
          0.98,
          0.98,
          0.98,
          0.98,
          0.98,
          0.98,
          0.98,
          0.98,
          0.98,
          0.98,
          0.98,
          0.98,
          0.98,
          0.98,
          0.98,
          0.98,
          0.98,
          0.98,
          0.98,
          0.98,
          0.98,
          0.98,
          0.98,
          0.98,
          0.98,
          0.98,
          0.98,
          0.98,
          0.98,
          0.98,
          0.98
         ],
         "yaxis": "y2"
        },
        {
         "customdata": [
          1,
          2,
          3,
          4,
          5,
          6,
          7,
          8,
          9,
          10,
          11,
          12,
          13,
          14,
          15,
          16,
          17,
          18,
          19,
          20,
          21,
          22,
          23,
          24,
          25,
          26,
          27,
          28,
          29,
          30,
          31,
          32,
          33,
          34,
          35,
          36,
          37,
          38,
          39,
          40,
          41,
          42,
          43,
          44,
          45,
          46,
          47,
          48,
          49,
          50
         ],
         "hovertemplate": "<b>Mode %{customdata}</b><br>%{x} Hz<br>%{y}",
         "legendgroup": "r3",
         "marker": {
          "color": "#19D3F3"
         },
         "name": "R3",
         "type": "bar",
         "width": 3,
         "x": [
          46.18,
          46.74,
          59.2,
          63.55,
          105.76,
          108.59,
          113.49,
          115.56,
          129.89,
          143.46,
          147.18,
          148.81,
          150.63,
          166.21,
          173.94,
          212.04,
          212.45,
          215.21,
          216.17,
          219.22,
          221.59,
          224.26,
          232.19,
          252.29,
          257.93,
          291.02,
          330.32,
          340.92,
          353.74,
          363.82,
          365.58,
          372.01,
          389.93,
          396.9,
          406.85,
          411.02,
          422.55,
          433.79,
          452.95,
          456.35,
          465.6,
          470.49,
          477.04,
          481.48,
          482.5,
          488.17,
          489.21,
          490.76,
          491.32,
          497.23
         ],
         "y": [
          0,
          0,
          0,
          0,
          0.01,
          0,
          0.79,
          0.14,
          0,
          0,
          0,
          0,
          0,
          0.03,
          0,
          0,
          0,
          0.01,
          0,
          0,
          0,
          0,
          0,
          0,
          0,
          0,
          0,
          0,
          0,
          0,
          0,
          0,
          0,
          0,
          0,
          0,
          0,
          0,
          0,
          0,
          0,
          0,
          0,
          0,
          0,
          0,
          0,
          0,
          0,
          0
         ],
         "yaxis": "y"
        },
        {
         "customdata": [
          1,
          2,
          3,
          4,
          5,
          6,
          7,
          8,
          9,
          10,
          11,
          12,
          13,
          14,
          15,
          16,
          17,
          18,
          19,
          20,
          21,
          22,
          23,
          24,
          25,
          26,
          27,
          28,
          29,
          30,
          31,
          32,
          33,
          34,
          35,
          36,
          37,
          38,
          39,
          40,
          41,
          42,
          43,
          44,
          45,
          46,
          47,
          48,
          49,
          50
         ],
         "hovertemplate": "<b>Mode %{customdata}</b><br>%{x} Hz<br>%{y}",
         "legendgroup": "r3",
         "line": {
          "color": "#85E3F3",
          "width": 1
         },
         "mode": "lines",
         "name": "R3 Sum",
         "showlegend": false,
         "type": "scatter",
         "x": [
          46.18,
          46.74,
          59.2,
          63.55,
          105.76,
          108.59,
          113.49,
          115.56,
          129.89,
          143.46,
          147.18,
          148.81,
          150.63,
          166.21,
          173.94,
          212.04,
          212.45,
          215.21,
          216.17,
          219.22,
          221.59,
          224.26,
          232.19,
          252.29,
          257.93,
          291.02,
          330.32,
          340.92,
          353.74,
          363.82,
          365.58,
          372.01,
          389.93,
          396.9,
          406.85,
          411.02,
          422.55,
          433.79,
          452.95,
          456.35,
          465.6,
          470.49,
          477.04,
          481.48,
          482.5,
          488.17,
          489.21,
          490.76,
          491.32,
          497.23
         ],
         "y": [
          0,
          0,
          0,
          0,
          0.01,
          0.01,
          0.8,
          0.9400000000000001,
          0.9400000000000001,
          0.9400000000000001,
          0.9400000000000001,
          0.9400000000000001,
          0.9400000000000001,
          0.9700000000000001,
          0.9700000000000001,
          0.9700000000000001,
          0.9700000000000001,
          0.9800000000000001,
          0.9800000000000001,
          0.9800000000000001,
          0.9800000000000001,
          0.9800000000000001,
          0.9800000000000001,
          0.9800000000000001,
          0.9800000000000001,
          0.9800000000000001,
          0.9800000000000001,
          0.9800000000000001,
          0.9800000000000001,
          0.9800000000000001,
          0.9800000000000001,
          0.9800000000000001,
          0.9800000000000001,
          0.9800000000000001,
          0.9800000000000001,
          0.9800000000000001,
          0.9800000000000001,
          0.9800000000000001,
          0.9800000000000001,
          0.9800000000000001,
          0.9800000000000001,
          0.9800000000000001,
          0.9800000000000001,
          0.9800000000000001,
          0.9800000000000001,
          0.9800000000000001,
          0.9800000000000001,
          0.9800000000000001,
          0.9800000000000001,
          0.9800000000000001
         ],
         "yaxis": "y2"
        }
       ],
       "layout": {
        "font": {
         "family": "Segoe UI",
         "size": 14
        },
        "height": 500,
        "hovermode": "closest",
        "legend": {
         "title": {
          "text": "DOF"
         }
        },
        "paper_bgcolor": "rgb(250,250,250)",
        "plot_bgcolor": "rgb(250,250,250)",
        "template": {
         "data": {
          "bar": [
           {
            "error_x": {
             "color": "#2a3f5f"
            },
            "error_y": {
             "color": "#2a3f5f"
            },
            "marker": {
             "line": {
              "color": "white",
              "width": 0.5
             },
             "pattern": {
              "fillmode": "overlay",
              "size": 10,
              "solidity": 0.2
             }
            },
            "type": "bar"
           }
          ],
          "barpolar": [
           {
            "marker": {
             "line": {
              "color": "white",
              "width": 0.5
             },
             "pattern": {
              "fillmode": "overlay",
              "size": 10,
              "solidity": 0.2
             }
            },
            "type": "barpolar"
           }
          ],
          "carpet": [
           {
            "aaxis": {
             "endlinecolor": "#2a3f5f",
             "gridcolor": "#C8D4E3",
             "linecolor": "#C8D4E3",
             "minorgridcolor": "#C8D4E3",
             "startlinecolor": "#2a3f5f"
            },
            "baxis": {
             "endlinecolor": "#2a3f5f",
             "gridcolor": "#C8D4E3",
             "linecolor": "#C8D4E3",
             "minorgridcolor": "#C8D4E3",
             "startlinecolor": "#2a3f5f"
            },
            "type": "carpet"
           }
          ],
          "choropleth": [
           {
            "colorbar": {
             "outlinewidth": 0,
             "ticks": ""
            },
            "type": "choropleth"
           }
          ],
          "contour": [
           {
            "colorbar": {
             "outlinewidth": 0,
             "ticks": ""
            },
            "colorscale": [
             [
              0,
              "#0d0887"
             ],
             [
              0.1111111111111111,
              "#46039f"
             ],
             [
              0.2222222222222222,
              "#7201a8"
             ],
             [
              0.3333333333333333,
              "#9c179e"
             ],
             [
              0.4444444444444444,
              "#bd3786"
             ],
             [
              0.5555555555555556,
              "#d8576b"
             ],
             [
              0.6666666666666666,
              "#ed7953"
             ],
             [
              0.7777777777777778,
              "#fb9f3a"
             ],
             [
              0.8888888888888888,
              "#fdca26"
             ],
             [
              1,
              "#f0f921"
             ]
            ],
            "type": "contour"
           }
          ],
          "contourcarpet": [
           {
            "colorbar": {
             "outlinewidth": 0,
             "ticks": ""
            },
            "type": "contourcarpet"
           }
          ],
          "heatmap": [
           {
            "colorbar": {
             "outlinewidth": 0,
             "ticks": ""
            },
            "colorscale": [
             [
              0,
              "#0d0887"
             ],
             [
              0.1111111111111111,
              "#46039f"
             ],
             [
              0.2222222222222222,
              "#7201a8"
             ],
             [
              0.3333333333333333,
              "#9c179e"
             ],
             [
              0.4444444444444444,
              "#bd3786"
             ],
             [
              0.5555555555555556,
              "#d8576b"
             ],
             [
              0.6666666666666666,
              "#ed7953"
             ],
             [
              0.7777777777777778,
              "#fb9f3a"
             ],
             [
              0.8888888888888888,
              "#fdca26"
             ],
             [
              1,
              "#f0f921"
             ]
            ],
            "type": "heatmap"
           }
          ],
          "heatmapgl": [
           {
            "colorbar": {
             "outlinewidth": 0,
             "ticks": ""
            },
            "colorscale": [
             [
              0,
              "#0d0887"
             ],
             [
              0.1111111111111111,
              "#46039f"
             ],
             [
              0.2222222222222222,
              "#7201a8"
             ],
             [
              0.3333333333333333,
              "#9c179e"
             ],
             [
              0.4444444444444444,
              "#bd3786"
             ],
             [
              0.5555555555555556,
              "#d8576b"
             ],
             [
              0.6666666666666666,
              "#ed7953"
             ],
             [
              0.7777777777777778,
              "#fb9f3a"
             ],
             [
              0.8888888888888888,
              "#fdca26"
             ],
             [
              1,
              "#f0f921"
             ]
            ],
            "type": "heatmapgl"
           }
          ],
          "histogram": [
           {
            "marker": {
             "pattern": {
              "fillmode": "overlay",
              "size": 10,
              "solidity": 0.2
             }
            },
            "type": "histogram"
           }
          ],
          "histogram2d": [
           {
            "colorbar": {
             "outlinewidth": 0,
             "ticks": ""
            },
            "colorscale": [
             [
              0,
              "#0d0887"
             ],
             [
              0.1111111111111111,
              "#46039f"
             ],
             [
              0.2222222222222222,
              "#7201a8"
             ],
             [
              0.3333333333333333,
              "#9c179e"
             ],
             [
              0.4444444444444444,
              "#bd3786"
             ],
             [
              0.5555555555555556,
              "#d8576b"
             ],
             [
              0.6666666666666666,
              "#ed7953"
             ],
             [
              0.7777777777777778,
              "#fb9f3a"
             ],
             [
              0.8888888888888888,
              "#fdca26"
             ],
             [
              1,
              "#f0f921"
             ]
            ],
            "type": "histogram2d"
           }
          ],
          "histogram2dcontour": [
           {
            "colorbar": {
             "outlinewidth": 0,
             "ticks": ""
            },
            "colorscale": [
             [
              0,
              "#0d0887"
             ],
             [
              0.1111111111111111,
              "#46039f"
             ],
             [
              0.2222222222222222,
              "#7201a8"
             ],
             [
              0.3333333333333333,
              "#9c179e"
             ],
             [
              0.4444444444444444,
              "#bd3786"
             ],
             [
              0.5555555555555556,
              "#d8576b"
             ],
             [
              0.6666666666666666,
              "#ed7953"
             ],
             [
              0.7777777777777778,
              "#fb9f3a"
             ],
             [
              0.8888888888888888,
              "#fdca26"
             ],
             [
              1,
              "#f0f921"
             ]
            ],
            "type": "histogram2dcontour"
           }
          ],
          "mesh3d": [
           {
            "colorbar": {
             "outlinewidth": 0,
             "ticks": ""
            },
            "type": "mesh3d"
           }
          ],
          "parcoords": [
           {
            "line": {
             "colorbar": {
              "outlinewidth": 0,
              "ticks": ""
             }
            },
            "type": "parcoords"
           }
          ],
          "pie": [
           {
            "automargin": true,
            "type": "pie"
           }
          ],
          "scatter": [
           {
            "fillpattern": {
             "fillmode": "overlay",
             "size": 10,
             "solidity": 0.2
            },
            "type": "scatter"
           }
          ],
          "scatter3d": [
           {
            "line": {
             "colorbar": {
              "outlinewidth": 0,
              "ticks": ""
             }
            },
            "marker": {
             "colorbar": {
              "outlinewidth": 0,
              "ticks": ""
             }
            },
            "type": "scatter3d"
           }
          ],
          "scattercarpet": [
           {
            "marker": {
             "colorbar": {
              "outlinewidth": 0,
              "ticks": ""
             }
            },
            "type": "scattercarpet"
           }
          ],
          "scattergeo": [
           {
            "marker": {
             "colorbar": {
              "outlinewidth": 0,
              "ticks": ""
             }
            },
            "type": "scattergeo"
           }
          ],
          "scattergl": [
           {
            "marker": {
             "colorbar": {
              "outlinewidth": 0,
              "ticks": ""
             }
            },
            "type": "scattergl"
           }
          ],
          "scattermapbox": [
           {
            "marker": {
             "colorbar": {
              "outlinewidth": 0,
              "ticks": ""
             }
            },
            "type": "scattermapbox"
           }
          ],
          "scatterpolar": [
           {
            "marker": {
             "colorbar": {
              "outlinewidth": 0,
              "ticks": ""
             }
            },
            "type": "scatterpolar"
           }
          ],
          "scatterpolargl": [
           {
            "marker": {
             "colorbar": {
              "outlinewidth": 0,
              "ticks": ""
             }
            },
            "type": "scatterpolargl"
           }
          ],
          "scatterternary": [
           {
            "marker": {
             "colorbar": {
              "outlinewidth": 0,
              "ticks": ""
             }
            },
            "type": "scatterternary"
           }
          ],
          "surface": [
           {
            "colorbar": {
             "outlinewidth": 0,
             "ticks": ""
            },
            "colorscale": [
             [
              0,
              "#0d0887"
             ],
             [
              0.1111111111111111,
              "#46039f"
             ],
             [
              0.2222222222222222,
              "#7201a8"
             ],
             [
              0.3333333333333333,
              "#9c179e"
             ],
             [
              0.4444444444444444,
              "#bd3786"
             ],
             [
              0.5555555555555556,
              "#d8576b"
             ],
             [
              0.6666666666666666,
              "#ed7953"
             ],
             [
              0.7777777777777778,
              "#fb9f3a"
             ],
             [
              0.8888888888888888,
              "#fdca26"
             ],
             [
              1,
              "#f0f921"
             ]
            ],
            "type": "surface"
           }
          ],
          "table": [
           {
            "cells": {
             "fill": {
              "color": "#EBF0F8"
             },
             "line": {
              "color": "white"
             }
            },
            "header": {
             "fill": {
              "color": "#C8D4E3"
             },
             "line": {
              "color": "white"
             }
            },
            "type": "table"
           }
          ]
         },
         "layout": {
          "annotationdefaults": {
           "arrowcolor": "#2a3f5f",
           "arrowhead": 0,
           "arrowwidth": 1
          },
          "autotypenumbers": "strict",
          "coloraxis": {
           "colorbar": {
            "outlinewidth": 0,
            "ticks": ""
           }
          },
          "colorscale": {
           "diverging": [
            [
             0,
             "#8e0152"
            ],
            [
             0.1,
             "#c51b7d"
            ],
            [
             0.2,
             "#de77ae"
            ],
            [
             0.3,
             "#f1b6da"
            ],
            [
             0.4,
             "#fde0ef"
            ],
            [
             0.5,
             "#f7f7f7"
            ],
            [
             0.6,
             "#e6f5d0"
            ],
            [
             0.7,
             "#b8e186"
            ],
            [
             0.8,
             "#7fbc41"
            ],
            [
             0.9,
             "#4d9221"
            ],
            [
             1,
             "#276419"
            ]
           ],
           "sequential": [
            [
             0,
             "#0d0887"
            ],
            [
             0.1111111111111111,
             "#46039f"
            ],
            [
             0.2222222222222222,
             "#7201a8"
            ],
            [
             0.3333333333333333,
             "#9c179e"
            ],
            [
             0.4444444444444444,
             "#bd3786"
            ],
            [
             0.5555555555555556,
             "#d8576b"
            ],
            [
             0.6666666666666666,
             "#ed7953"
            ],
            [
             0.7777777777777778,
             "#fb9f3a"
            ],
            [
             0.8888888888888888,
             "#fdca26"
            ],
            [
             1,
             "#f0f921"
            ]
           ],
           "sequentialminus": [
            [
             0,
             "#0d0887"
            ],
            [
             0.1111111111111111,
             "#46039f"
            ],
            [
             0.2222222222222222,
             "#7201a8"
            ],
            [
             0.3333333333333333,
             "#9c179e"
            ],
            [
             0.4444444444444444,
             "#bd3786"
            ],
            [
             0.5555555555555556,
             "#d8576b"
            ],
            [
             0.6666666666666666,
             "#ed7953"
            ],
            [
             0.7777777777777778,
             "#fb9f3a"
            ],
            [
             0.8888888888888888,
             "#fdca26"
            ],
            [
             1,
             "#f0f921"
            ]
           ]
          },
          "colorway": [
           "#636efa",
           "#EF553B",
           "#00cc96",
           "#ab63fa",
           "#FFA15A",
           "#19d3f3",
           "#FF6692",
           "#B6E880",
           "#FF97FF",
           "#FECB52"
          ],
          "font": {
           "color": "#2a3f5f"
          },
          "geo": {
           "bgcolor": "white",
           "lakecolor": "white",
           "landcolor": "white",
           "showlakes": true,
           "showland": true,
           "subunitcolor": "#C8D4E3"
          },
          "hoverlabel": {
           "align": "left"
          },
          "hovermode": "closest",
          "mapbox": {
           "style": "light"
          },
          "paper_bgcolor": "white",
          "plot_bgcolor": "white",
          "polar": {
           "angularaxis": {
            "gridcolor": "#EBF0F8",
            "linecolor": "#EBF0F8",
            "ticks": ""
           },
           "bgcolor": "white",
           "radialaxis": {
            "gridcolor": "#EBF0F8",
            "linecolor": "#EBF0F8",
            "ticks": ""
           }
          },
          "scene": {
           "xaxis": {
            "backgroundcolor": "white",
            "gridcolor": "#DFE8F3",
            "gridwidth": 2,
            "linecolor": "#EBF0F8",
            "showbackground": true,
            "ticks": "",
            "zerolinecolor": "#EBF0F8"
           },
           "yaxis": {
            "backgroundcolor": "white",
            "gridcolor": "#DFE8F3",
            "gridwidth": 2,
            "linecolor": "#EBF0F8",
            "showbackground": true,
            "ticks": "",
            "zerolinecolor": "#EBF0F8"
           },
           "zaxis": {
            "backgroundcolor": "white",
            "gridcolor": "#DFE8F3",
            "gridwidth": 2,
            "linecolor": "#EBF0F8",
            "showbackground": true,
            "ticks": "",
            "zerolinecolor": "#EBF0F8"
           }
          },
          "shapedefaults": {
           "line": {
            "color": "#2a3f5f"
           }
          },
          "ternary": {
           "aaxis": {
            "gridcolor": "#DFE8F3",
            "linecolor": "#A2B1C6",
            "ticks": ""
           },
           "baxis": {
            "gridcolor": "#DFE8F3",
            "linecolor": "#A2B1C6",
            "ticks": ""
           },
           "bgcolor": "white",
           "caxis": {
            "gridcolor": "#DFE8F3",
            "linecolor": "#A2B1C6",
            "ticks": ""
           }
          },
          "title": {
           "x": 0.05
          },
          "xaxis": {
           "automargin": true,
           "gridcolor": "#EBF0F8",
           "linecolor": "#EBF0F8",
           "ticks": "",
           "title": {
            "standoff": 15
           },
           "zerolinecolor": "#EBF0F8",
           "zerolinewidth": 2
          },
          "yaxis": {
           "automargin": true,
           "gridcolor": "#EBF0F8",
           "linecolor": "#EBF0F8",
           "ticks": "",
           "title": {
            "standoff": 15
           },
           "zerolinecolor": "#EBF0F8",
           "zerolinewidth": 2
          }
         }
        },
        "title": {
         "font": {
          "size": 20
         },
         "text": "<b>Modal Effective Mass Fraction</b><br>&#8805;1%",
         "x": 0.5
        },
        "width": 1000,
        "xaxis": {
         "anchor": "y",
         "domain": [
          0,
          0.94
         ],
         "hoverformat": ".0f",
         "minor": {
          "dtick": "D1"
         },
         "mirror": true,
         "range": [
          20,
          500
         ],
         "showgrid": true,
         "showline": true,
         "showspikes": true,
         "spikemode": "across",
         "spikethickness": 1,
         "title": {
          "text": "Frequency (Hz)"
         },
         "type": "linear"
        },
        "yaxis": {
         "anchor": "x",
         "constraintoward": "bottom",
         "domain": [
          0,
          1
         ],
         "dtick": 0.1,
         "mirror": true,
         "rangemode": "tozero",
         "scaleanchor": "y2",
         "scaleratio": 1,
         "showline": true,
         "tickformat": ".0%",
         "title": {
          "text": "Fraction"
         }
        },
        "yaxis2": {
         "anchor": "x",
         "constraintoward": "bottom",
         "dtick": 0.2,
         "hoverformat": ".0%",
         "overlaying": "y",
         "rangemode": "tozero",
         "scaleanchor": "y",
         "scaleratio": 1,
         "side": "right",
         "tickformat": ".0%",
         "title": {
          "text": "Sum"
         }
        }
       }
      }
     },
     "metadata": {},
     "output_type": "display_data"
    }
   ],
   "source": [
    "# plot results\n",
    "fig = make_subplots(specs=[[{'secondary_y': True}]])\n",
    "fig.update_layout(layout)\n",
    "\n",
    "headers = efmfacs.drop('Freq', axis=1).columns\n",
    "\n",
    "cidx = 0\n",
    "for col in headers:\n",
    "    fig.add_bar(\n",
    "        x=efmfacs['Freq'],\n",
    "        y=efmfacs[col],\n",
    "        customdata=efmfacs.index,\n",
    "        name=col[:2].upper(),\n",
    "        yaxis='y',\n",
    "        # width=[1/10 * (10**(np.log10(i)-1))  # for logarithmic x-axis\n",
    "        #         for i in efmfacs['Freq']],\n",
    "        width=3,\n",
    "        marker={'color': color[cidx]},\n",
    "        hovertemplate=\"<b>Mode %{customdata}</b><br>%{x} Hz<br>%{y}\",\n",
    "        legendgroup=col[:2].lower()\n",
    "    )\n",
    "\n",
    "    fig.add_scatter(\n",
    "        x=efmfacs['Freq'],\n",
    "        y=efmfacs[col].cumsum(),\n",
    "        customdata=efmfacs.index,\n",
    "        name=col[:2].upper() + \" Sum\",\n",
    "        mode='lines',\n",
    "        line={'color': hex_saturation(color[cidx], 0.5),\n",
    "              'width': 1.0},\n",
    "        yaxis='y2',\n",
    "        hovertemplate=\"<b>Mode %{customdata}</b><br>%{x} Hz<br>%{y}\",\n",
    "        legendgroup=col[:2].lower(),\n",
    "        showlegend=False,\n",
    "    )\n",
    "\n",
    "    cidx += 1\n",
    "\n",
    "fig.write_html('modes.html', include_mathjax='cdn')\n",
    "fig.show()"
   ]
  }
 ],
 "metadata": {
  "kernelspec": {
   "display_name": "orbitfab",
   "language": "python",
   "name": "python3"
  },
  "language_info": {
   "codemirror_mode": {
    "name": "ipython",
    "version": 3
   },
   "file_extension": ".py",
   "mimetype": "text/x-python",
   "name": "python",
   "nbconvert_exporter": "python",
   "pygments_lexer": "ipython3",
   "version": "3.10.11"
  },
  "orig_nbformat": 4
 },
 "nbformat": 4,
 "nbformat_minor": 2
}

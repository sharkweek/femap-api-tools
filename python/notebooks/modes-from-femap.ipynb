{
 "cells": [
  {
   "cell_type": "code",
   "execution_count": null,
   "metadata": {},
   "outputs": [],
   "source": [
    "import pythoncom\n",
    "import pyfemap\n",
    "import numpy as np\n",
    "import pandas as pd\n",
    "import plotly.graph_objs as go\n",
    "import plotly.express as px"
   ]
  },
  {
   "cell_type": "code",
   "execution_count": null,
   "metadata": {},
   "outputs": [],
   "source": [
    "# ensure model is open and active in Femap before running this cell\n",
    "exist_obj = pythoncom.connect(pyfemap.model.CLSID)\n",
    "app = pyfemap.model(exist_obj)"
   ]
  },
  {
   "cell_type": "code",
   "execution_count": null,
   "metadata": {},
   "outputs": [],
   "source": [
    "def plot_mass_frac_from_femap(id_list, cumulative=False, min_frac=0.01):\n",
    "    \"\"\"Plots mode functions from Femap.\n",
    "\n",
    "    Parameters\n",
    "    ----------\n",
    "    id_list : list of int\n",
    "        list of Femap function IDs to plot\n",
    "    cumulative : bool, optional\n",
    "        Plots mass fractions by frequency if False. Plots cumulative sum of\n",
    "        mass fractions, if True. Default is False\n",
    "    min_frac : float, optional\n",
    "        Minimum mass fraction to plot. All mass fractions lower than this\n",
    "        minimum will be ignored and not plotted. Default is 0.01.\n",
    "\n",
    "    Returns\n",
    "    -------\n",
    "    plotly.Figure\n",
    "    \"\"\"\n",
    "\n",
    "    fn = app.feFunction\n",
    "    df = pd.DataFrame()\n",
    "\n",
    "    for id in id_list:\n",
    "        fn.Get(id)\n",
    "        data = np.array(fn.GetFunctionList()[2:])\n",
    "        df[fn.title] = pd.Series(\n",
    "            data=data[1],\n",
    "            index=pd.Index(data[0], name='frequency')\n",
    "        )\n",
    "\n",
    "    fig = go.Figure(\n",
    "        layout=go.Layout(\n",
    "            title={\n",
    "                'x': 0.5,\n",
    "                'font': {'size': 20}\n",
    "            },\n",
    "            font={'family': 'Source Sans Pro',\n",
    "                'size': 14},\n",
    "            template='plotly_white',\n",
    "            xaxis={'type': 'log',\n",
    "                   'minor': {'dtick': 'D1'},\n",
    "                   'showline': True,\n",
    "                   'mirror': True,\n",
    "                   'title': \"Frequency (Hz)\",\n",
    "                   'range': [0, np.log10(2000)]},\n",
    "            yaxis={'title': 'Mass Fraction',\n",
    "                   'showline': True,\n",
    "                   'mirror': True},\n",
    "        )\n",
    "    )\n",
    "\n",
    "    if cumulative:\n",
    "        for i in df.columns:\n",
    "            dof = i[i.find('FRAC ') + 5:i.find('FRAC ') + 7]\n",
    "            fig.add_scatter(\n",
    "                x=df.index,\n",
    "                y=df[i].cumsum(),\n",
    "                name=dof,\n",
    "                mode='lines',\n",
    "                legendgroup='translation' if 'T' in dof else 'rotation'\n",
    "            )\n",
    "        fig.update_layout(\n",
    "            title={'text': 'Cumulative Mass Fraction by Frequency'},\n",
    "            hovermode='x'\n",
    "        )\n",
    "    else:\n",
    "        for i in df.columns:\n",
    "            dof = i[i.find('FRAC ') + 5:i.find('FRAC ') + 7]\n",
    "            fig.add_scatter(\n",
    "                x=df[df[i] > min_frac].index,\n",
    "                y=df[df[i] > min_frac][i],\n",
    "                name=dof,\n",
    "                mode='markers',\n",
    "                legendgroup='translation' if 'T' in dof else 'rotation',\n",
    "                marker={'symbol': 'circle' if 'T' in dof else 'square',\n",
    "                        'size': 9,\n",
    "                        'line': {'width': 1.5}},\n",
    "                hovertemplate=\"%{y:.2f}<br><b><i>%{x:.0f} Hz</i></b>\"\n",
    "            )\n",
    "        fig.update_layout(\n",
    "            title={\n",
    "                'text': f\"<b>Mass Fraction by Frequency</b><br>{min_frac} min\"\n",
    "            },\n",
    "            xaxis={'showspikes': True,\n",
    "                   'spikethickness': 1,\n",
    "                   'spikemode': 'across'},\n",
    "            hovermode='closest'\n",
    "        )\n",
    "\n",
    "    return fig"
   ]
  },
  {
   "cell_type": "code",
   "execution_count": null,
   "metadata": {},
   "outputs": [],
   "source": [
    "# IDs of functions to plot\n",
    "fn_list = list(range(1, 7))"
   ]
  },
  {
   "cell_type": "code",
   "execution_count": null,
   "metadata": {},
   "outputs": [],
   "source": [
    "fig = plot_mass_frac_from_femap(fn_list)\n",
    "fig.show()"
   ]
  },
  {
   "cell_type": "code",
   "execution_count": null,
   "metadata": {},
   "outputs": [],
   "source": [
    "fig = plot_mass_frac_from_femap(fn_list, True)\n",
    "fig.show()"
   ]
  }
 ],
 "metadata": {
  "kernelspec": {
   "display_name": "sandbox",
   "language": "python",
   "name": "python3"
  },
  "language_info": {
   "codemirror_mode": {
    "name": "ipython",
    "version": 3
   },
   "file_extension": ".py",
   "mimetype": "text/x-python",
   "name": "python",
   "nbconvert_exporter": "python",
   "pygments_lexer": "ipython3",
   "version": "3.10.9"
  },
  "orig_nbformat": 4,
  "vscode": {
   "interpreter": {
    "hash": "0e0aa6272e0b560eceb4a54705a5bf274debcbd61621c9a39cc7d43f9e00dc29"
   }
  }
 },
 "nbformat": 4,
 "nbformat_minor": 2
}
